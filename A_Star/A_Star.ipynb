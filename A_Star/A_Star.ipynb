{
 "cells": [
  {
   "cell_type": "markdown",
   "id": "3dc5fe5b",
   "metadata": {},
   "source": [
    "# A* and Dijkstra\n",
    "\n",
    "The goal of this assignment is to familiarize myself with searching algorithms. In this case we will be using algorithms designed for finding short paths. \n",
    "\n",
    "1. Data Preprocessing\n",
    "2. Methods\n",
    "3. Results / Answers\n",
    "4. Analysis\n",
    "\n",
    "Author: Paul Mello\n",
    "Prof: Jetcheva\n",
    "Date: 9/20/21\n",
    "Class: CMPE 252"
   ]
  },
  {
   "cell_type": "markdown",
   "id": "354d46f5",
   "metadata": {},
   "source": [
    "## Section 1: Data Preprocessing\n",
    "\n",
    "Below I download the appropriate libararies, load the proper data files, then check to see if the data was loaded properly. No cleanup is necessary given the cleanliness of the text files."
   ]
  },
  {
   "cell_type": "code",
   "execution_count": 1,
   "id": "f5e26a0c",
   "metadata": {},
   "outputs": [],
   "source": [
    "import pandas as pd\n",
    "import networkx as nx\n",
    "import matplotlib.pyplot as plt\n",
    "import numpy as np\n",
    "import time"
   ]
  },
  {
   "cell_type": "code",
   "execution_count": 2,
   "id": "44df070a",
   "metadata": {},
   "outputs": [],
   "source": [
    "df = pd.read_csv(\"https://people.sc.fsu.edu/~jburkardt/datasets/cities/sgb128_xy.txt\", skiprows = 6, delim_whitespace=True, names = ['X', 'Y'])\n",
    "dist = np.loadtxt(\"https://people.sc.fsu.edu/~jburkardt/datasets/cities/sgb128_dist.txt\", skiprows = 6)"
   ]
  },
  {
   "cell_type": "code",
   "execution_count": 3,
   "id": "9a5ea001",
   "metadata": {
    "scrolled": true
   },
   "outputs": [
    {
     "data": {
      "text/html": [
       "<div>\n",
       "<style scoped>\n",
       "    .dataframe tbody tr th:only-of-type {\n",
       "        vertical-align: middle;\n",
       "    }\n",
       "\n",
       "    .dataframe tbody tr th {\n",
       "        vertical-align: top;\n",
       "    }\n",
       "\n",
       "    .dataframe thead th {\n",
       "        text-align: right;\n",
       "    }\n",
       "</style>\n",
       "<table border=\"1\" class=\"dataframe\">\n",
       "  <thead>\n",
       "    <tr style=\"text-align: right;\">\n",
       "      <th></th>\n",
       "      <th>X</th>\n",
       "      <th>Y</th>\n",
       "    </tr>\n",
       "  </thead>\n",
       "  <tbody>\n",
       "    <tr>\n",
       "      <th>1</th>\n",
       "      <td>-5572.57</td>\n",
       "      <td>2839.81</td>\n",
       "    </tr>\n",
       "    <tr>\n",
       "      <th>2</th>\n",
       "      <td>-6729.21</td>\n",
       "      <td>2962.82</td>\n",
       "    </tr>\n",
       "    <tr>\n",
       "      <th>3</th>\n",
       "      <td>-8326.72</td>\n",
       "      <td>3219.84</td>\n",
       "    </tr>\n",
       "    <tr>\n",
       "      <th>4</th>\n",
       "      <td>-4961.07</td>\n",
       "      <td>2920.67</td>\n",
       "    </tr>\n",
       "    <tr>\n",
       "      <th>5</th>\n",
       "      <td>-6202.70</td>\n",
       "      <td>3014.64</td>\n",
       "    </tr>\n",
       "    <tr>\n",
       "      <th>...</th>\n",
       "      <td>...</td>\n",
       "      <td>...</td>\n",
       "    </tr>\n",
       "    <tr>\n",
       "      <th>124</th>\n",
       "      <td>-8278.33</td>\n",
       "      <td>2730.66</td>\n",
       "    </tr>\n",
       "    <tr>\n",
       "      <th>125</th>\n",
       "      <td>-7230.86</td>\n",
       "      <td>3483.78</td>\n",
       "    </tr>\n",
       "    <tr>\n",
       "      <th>126</th>\n",
       "      <td>-8446.23</td>\n",
       "      <td>2776.26</td>\n",
       "    </tr>\n",
       "    <tr>\n",
       "      <th>127</th>\n",
       "      <td>-5246.43</td>\n",
       "      <td>2786.63</td>\n",
       "    </tr>\n",
       "    <tr>\n",
       "      <th>128</th>\n",
       "      <td>-5613.31</td>\n",
       "      <td>2843.96</td>\n",
       "    </tr>\n",
       "  </tbody>\n",
       "</table>\n",
       "<p>128 rows × 2 columns</p>\n",
       "</div>"
      ],
      "text/plain": [
       "            X        Y\n",
       "1    -5572.57  2839.81\n",
       "2    -6729.21  2962.82\n",
       "3    -8326.72  3219.84\n",
       "4    -4961.07  2920.67\n",
       "5    -6202.70  3014.64\n",
       "..        ...      ...\n",
       "124  -8278.33  2730.66\n",
       "125  -7230.86  3483.78\n",
       "126  -8446.23  2776.26\n",
       "127  -5246.43  2786.63\n",
       "128  -5613.31  2843.96\n",
       "\n",
       "[128 rows x 2 columns]"
      ]
     },
     "execution_count": 3,
     "metadata": {},
     "output_type": "execute_result"
    }
   ],
   "source": [
    "df = df.iloc[1:] #Remove First line containing no information\n",
    "df"
   ]
  },
  {
   "cell_type": "code",
   "execution_count": 4,
   "id": "a7658e1d",
   "metadata": {},
   "outputs": [
    {
     "name": "stdout",
     "output_type": "stream",
     "text": [
      "[[   0.  966. 1513. ... 1564. 2871.  348.]\n",
      " [ 966.    0. 2410. ...  198. 1917. 2541.]\n",
      " [1513. 2410.    0. ... 2217. 2673. 1570.]\n",
      " ...\n",
      " [1564.  198. 2217. ...    0.  321.  936.]\n",
      " [2871. 1917. 2673. ...  321.    0.   34.]\n",
      " [ 348. 2541. 1570. ...  936.   34.    0.]]\n"
     ]
    }
   ],
   "source": [
    "print(dist)"
   ]
  },
  {
   "cell_type": "markdown",
   "id": "dbf6bc43",
   "metadata": {},
   "source": [
    "## Section 2: Methods\n",
    "\n",
    "In the following code I develop my graph, then unload the text files into the graph itself. \n",
    "\n",
    "Note that the euclidean distance from the x and y file is calculated using eucdist. If the euclidean distance is less than the 230, then the actual road distance is used as the weight for the edge connecting the two nodes."
   ]
  },
  {
   "cell_type": "code",
   "execution_count": 5,
   "id": "11899592",
   "metadata": {},
   "outputs": [],
   "source": [
    "G = nx.Graph()"
   ]
  },
  {
   "cell_type": "code",
   "execution_count": 6,
   "id": "8424e4e9",
   "metadata": {},
   "outputs": [],
   "source": [
    "%%capture \n",
    "# \"%%capture\": Capture Future Warning of Depreciation\n",
    "\n",
    "x = []\n",
    "y = []\n",
    "i = 0\n",
    "Nodes = pd.DataFrame({'City' : [], 'Latitude' : [], 'Longitude' : []})\n",
    "Edges = pd.DataFrame({'CityStart' : [], 'CityEnd' : [],'Distance' : []})\n",
    "while ((127 - i) > 0):\n",
    "    k = 0\n",
    "    xvar = pd.to_numeric(df.loc[i+1,'X'])\n",
    "    x.append(xvar)\n",
    "    yvar = pd.to_numeric(df.loc[i+1,'Y'])\n",
    "    y.append(yvar)\n",
    "    cityStart = \"City %i\"%i\n",
    "    Nodes.loc[len(Nodes.index)] = [cityStart, xvar, yvar]\n",
    "    while ((127 - k) > 0):\n",
    "        Zxvar = pd.to_numeric(df.loc[k+1,'X'])\n",
    "        Zyvar = pd.to_numeric(df.loc[k+1,'Y'])\n",
    "        Dvar = pd.to_numeric(dist[i][k])\n",
    "        eucdist = ((xvar - Zxvar)**2 + (yvar - Zyvar)**2)**0.5\n",
    "        k = k + 1\n",
    "        if(eucdist <= 230):\n",
    "            G.add_edge((xvar, yvar), (Zxvar, Zyvar), weight=Dvar)\n",
    "            t = k - 1\n",
    "            cityEnd = \"City %i\"%t\n",
    "            if cityStart != cityEnd:\n",
    "                Edges = Edges.append({'CityStart' : cityStart, 'CityEnd' : cityEnd,'Distance' : eucdist}, ignore_index=True)\n",
    "    i = i + 1"
   ]
  },
  {
   "cell_type": "code",
   "execution_count": 7,
   "id": "0c0542fc",
   "metadata": {},
   "outputs": [
    {
     "data": {
      "text/plain": [
       "127"
      ]
     },
     "execution_count": 7,
     "metadata": {},
     "output_type": "execute_result"
    }
   ],
   "source": [
    "G.number_of_nodes()"
   ]
  },
  {
   "cell_type": "markdown",
   "id": "76d61178",
   "metadata": {},
   "source": [
    "## Section 3: A* Results\n",
    "\n",
    "Below the results from the graph are displayed using matplotlib. We can see that the graph appears to be a depiction of the united states. We have been instructed to use nodes 6 and 16 as our start and end. "
   ]
  },
  {
   "cell_type": "code",
   "execution_count": 8,
   "id": "134e8eff",
   "metadata": {},
   "outputs": [
    {
     "data": {
      "image/png": "[encoded data removed]",
      "text/plain": [
       "<Figure size 640x480 with 1 Axes>"
      ]
     },
     "metadata": {},
     "output_type": "display_data"
    }
   ],
   "source": [
    "plt.scatter(x,y)\n",
    "plt.show()"
   ]
  },
  {
   "cell_type": "code",
   "execution_count": 9,
   "id": "9e9f7e94",
   "metadata": {},
   "outputs": [],
   "source": [
    "def euc(a, b):\n",
    "    (x1, y1) = a\n",
    "    (x2, y2) = b\n",
    "    return (((x1 - x2) ** 2 + (y1 - y2) ** 2) ** .5)"
   ]
  },
  {
   "cell_type": "code",
   "execution_count": 10,
   "id": "43d85446",
   "metadata": {},
   "outputs": [],
   "source": [
    "#Question 1 Answer\n",
    "\n",
    "#Below I display the nodes I traversed using the astar path algorithm. The shortest path I traversed was a total of 19 nodes"
   ]
  },
  {
   "cell_type": "code",
   "execution_count": 11,
   "id": "630d9635",
   "metadata": {},
   "outputs": [
    {
     "data": {
      "text/plain": [
       "[(-6712.64, 3446.49),\n",
       " (-6772.07, 3241.95),\n",
       " (-6709.88, 3102.4),\n",
       " (-6660.11, 2935.87),\n",
       " (-6553.01, 2747.93),\n",
       " (-6441.79, 2674.67),\n",
       " (-6231.74, 2668.46),\n",
       " (-6039.65, 2727.21),\n",
       " (-5975.39, 2908.91),\n",
       " (-5772.25, 2877.83),\n",
       " (-5570.49, 2788.7),\n",
       " (-5523.51, 2575.2),\n",
       " (-5351.44, 2593.85),\n",
       " (-5375.64, 2483.28),\n",
       " (-5551.82, 2343.71),\n",
       " (-5689.32, 2252.5),\n",
       " (-5754.27, 2130.2),\n",
       " (-5696.92, 1931.22),\n",
       " (-5531.11, 1846.22)]"
      ]
     },
     "execution_count": 11,
     "metadata": {},
     "output_type": "execute_result"
    }
   ],
   "source": [
    "start = (-6712.64, 3446.49)\n",
    "end = (-5531.11, 1846.22)\n",
    "nx.astar_path(G, start, end, euc)"
   ]
  },
  {
   "cell_type": "code",
   "execution_count": 12,
   "id": "a48c9967",
   "metadata": {},
   "outputs": [
    {
     "data": {
      "text/plain": [
       "19"
      ]
     },
     "execution_count": 12,
     "metadata": {},
     "output_type": "execute_result"
    }
   ],
   "source": [
    "len(nx.astar_path(G, start, end, euc)) #Checking length of final node path to show length of node traversal"
   ]
  },
  {
   "cell_type": "markdown",
   "id": "3077e8fb",
   "metadata": {},
   "source": [
    "## Section 3.1: Heuristic Results\n",
    "\n",
    "With the above code working it is now time to test other potential weights.\n",
    "\n",
    "(.5, 1, 2, 3, 4, 5, 6, 7, 8, 9, 10) Respectively"
   ]
  },
  {
   "cell_type": "code",
   "execution_count": 13,
   "id": "8d8971b0",
   "metadata": {},
   "outputs": [],
   "source": [
    "testWeightList = [.5, 1, 2, 3, 4, 5, 6, 7, 8, 9, 10]"
   ]
  },
  {
   "cell_type": "code",
   "execution_count": 14,
   "id": "4da8f16c",
   "metadata": {},
   "outputs": [],
   "source": [
    "def test_weights(num):\n",
    "    def euc(a, b):\n",
    "        (x1, y1) = a\n",
    "        (x2, y2) = b\n",
    "        return (((x1 - x2) ** 2 + (y1 - y2) ** 2) ** .5) * num\n",
    "    start_time = time.time()\n",
    "    print(f\"Weight: {num} \\tPath Length: {len(nx.astar_path(G, start, end, euc))} \\tSeconds: {(time.time() - start_time):06f}\")"
   ]
  },
  {
   "cell_type": "code",
   "execution_count": 15,
   "id": "7a596cbd",
   "metadata": {},
   "outputs": [
    {
     "name": "stdout",
     "output_type": "stream",
     "text": [
      "Weight: 0.5 \tPath Length: 19 \tSeconds: 0.001993\n",
      "Weight: 1 \tPath Length: 19 \tSeconds: 0.001999\n",
      "Weight: 2 \tPath Length: 19 \tSeconds: 0.002001\n",
      "Weight: 3 \tPath Length: 19 \tSeconds: 0.001999\n",
      "Weight: 4 \tPath Length: 19 \tSeconds: 0.001500\n",
      "Weight: 5 \tPath Length: 19 \tSeconds: 0.001000\n",
      "Weight: 6 \tPath Length: 19 \tSeconds: 0.001501\n",
      "Weight: 7 \tPath Length: 19 \tSeconds: 0.000500\n",
      "Weight: 8 \tPath Length: 17 \tSeconds: 0.001001\n",
      "Weight: 9 \tPath Length: 17 \tSeconds: 0.000500\n",
      "Weight: 10 \tPath Length: 17 \tSeconds: 0.000500\n"
     ]
    }
   ],
   "source": [
    "for i in testWeightList:\n",
    "    test_weights(i)"
   ]
  },
  {
   "cell_type": "markdown",
   "id": "7c952b1e",
   "metadata": {},
   "source": [
    "As we can see above, the euclidean distance is given an additional weight heuristic the time and node traversal decreases rapidly until we hit 10 which has the lowest time and time complexity. Although the data does not directly display 10 as the smallest, after multiple run throughs 10 is, on average, the fastest heuristic function. Assuming we would continue to change these weights I would assume to see consistantly better time and node traversal. \n",
    "\n",
    "Interestingly we can see a clear indication that the time each cell takes to run has a sort of plateu at certain numbers. Additionally, its slight variance such as in cell 21 has an increase of time, but I believe this anomally to be a result of cpu timings."
   ]
  },
  {
   "cell_type": "markdown",
   "id": "40dbcc4f",
   "metadata": {},
   "source": [
    "## Section 3.3: Dijkstra Results\n",
    "\n",
    "Below we will compute the length of the shortest path between the source and destination nodes using the single_source_dijkstra() function from the networkx library."
   ]
  },
  {
   "cell_type": "code",
   "execution_count": 16,
   "id": "762d7c50",
   "metadata": {},
   "outputs": [
    {
     "name": "stdout",
     "output_type": "stream",
     "text": [
      "(11588.0, [(-6712.64, 3446.49), (-6772.07, 3241.95), (-6709.88, 3102.4), (-6660.11, 2935.87), (-6553.01, 2747.93), (-6441.79, 2674.67), (-6231.74, 2668.46), (-6039.65, 2727.21), (-5975.39, 2908.91), (-5772.25, 2877.83), (-5570.49, 2788.7), (-5523.51, 2575.2), (-5351.44, 2593.85), (-5375.64, 2483.28), (-5551.82, 2343.71), (-5689.32, 2252.5), (-5754.27, 2130.2), (-5696.92, 1931.22), (-5531.11, 1846.22)])\n",
      "\n",
      "\n",
      "2\n",
      "0.003500223159790039 seconds:\n"
     ]
    }
   ],
   "source": [
    "start_time = time.time()\n",
    "print(nx.single_source_dijkstra(G, start, end))\n",
    "print('\\n')\n",
    "print(len(nx.single_source_dijkstra(G, start, end)))\n",
    "print(\"%s seconds:\" % (time.time() - start_time))"
   ]
  },
  {
   "cell_type": "markdown",
   "id": "3436a0a5",
   "metadata": {},
   "source": [
    "As we can see above the node traversal using dijkstra's algorithm gives us a bad time complexity and a suboptimal node traversal (19 nodes). This makes sense considering this is a greedy algorithm while A* is not. However, the length given is 2 which is odd and I can't seem to understand why. My best guess is the shortest distance is always a straight line."
   ]
  },
  {
   "cell_type": "markdown",
   "id": "5b49e49d",
   "metadata": {},
   "source": [
    "## Section 4 Analysis"
   ]
  },
  {
   "cell_type": "markdown",
   "id": "3b3549d3",
   "metadata": {},
   "source": [
    "As a final note, I attempted to answer the optional question and my findings were that the weight value for the most optimal heuristic function is 10. \n",
    "Aside from that, it was very interesting to see A* complete a graph traversal as I have heard about it many times but never played with it until now. "
   ]
  },
  {
   "cell_type": "code",
   "execution_count": 17,
   "id": "67a5cc5a",
   "metadata": {},
   "outputs": [],
   "source": [
    "dfNode = pd.DataFrame(Nodes)\n",
    "dfNode.to_csv(r'E:\\School\\San Jose\\Fall 2021\\CMPE 252\\Knowledge Base\\Nodes.csv')\n",
    "\n",
    "dfEdge = pd.DataFrame(Edges)\n",
    "dfEdge.to_csv(r'E:\\School\\San Jose\\Fall 2021\\CMPE 252\\Knowledge Base\\Edges.csv')"
   ]
  },
  {
   "cell_type": "code",
   "execution_count": 18,
   "id": "3d6d76f2",
   "metadata": {},
   "outputs": [],
   "source": [
    "nx.write_graphml(G, 'graph.graphml')"
   ]
  },
  {
   "cell_type": "markdown",
   "id": "e96e35be",
   "metadata": {},
   "source": []
  }
 ],
 "metadata": {
  "kernelspec": {
   "display_name": "Python 3 (ipykernel)",
   "language": "python",
   "name": "python3"
  },
  "language_info": {
   "codemirror_mode": {
    "name": "ipython",
    "version": 3
   },
   "file_extension": ".py",
   "mimetype": "text/x-python",
   "name": "python",
   "nbconvert_exporter": "python",
   "pygments_lexer": "ipython3",
   "version": "3.9.12"
  }
 },
 "nbformat": 4,
 "nbformat_minor": 5
}
